{
  "cells": [
    {
      "cell_type": "code",
      "execution_count": null,
      "id": "7500e0fc",
      "metadata": {
        "id": "7500e0fc"
      },
      "outputs": [],
      "source": [
        "import pandas as pd\n",
        "import numpy as np\n",
        "import seaborn as sns\n",
        "%matplotlib inline\n",
        "import matplotlib.pyplot as plt\n",
        "import math"
      ]
    },
    {
      "cell_type": "markdown",
      "id": "fd209e8a",
      "metadata": {
        "id": "fd209e8a"
      },
      "source": [
        "1. Import berfungsi sebagai mengambil library pada jupyter\n",
        "2. Seaborn berfungsi untuk menampilkan visualisasi data, seperti menampilkan data asli dan data prediksi\n",
        "3. math berfungsi untuk perhitungan data\n"
      ]
    },
    {
      "cell_type": "code",
      "execution_count": null,
      "id": "e2a062d4",
      "metadata": {
        "id": "e2a062d4",
        "outputId": "68a1e139-1eda-4311-8882-1ad067666240"
      },
      "outputs": [
        {
          "data": {
            "text/html": [
              "<div>\n",
              "<style scoped>\n",
              "    .dataframe tbody tr th:only-of-type {\n",
              "        vertical-align: middle;\n",
              "    }\n",
              "\n",
              "    .dataframe tbody tr th {\n",
              "        vertical-align: top;\n",
              "    }\n",
              "\n",
              "    .dataframe thead th {\n",
              "        text-align: right;\n",
              "    }\n",
              "</style>\n",
              "<table border=\"1\" class=\"dataframe\">\n",
              "  <thead>\n",
              "    <tr style=\"text-align: right;\">\n",
              "      <th></th>\n",
              "      <th>Daily Exercise Time (X)</th>\n",
              "      <th>Weight Loss (Y)</th>\n",
              "    </tr>\n",
              "  </thead>\n",
              "  <tbody>\n",
              "    <tr>\n",
              "      <th>0</th>\n",
              "      <td>0.5</td>\n",
              "      <td>0.2</td>\n",
              "    </tr>\n",
              "    <tr>\n",
              "      <th>1</th>\n",
              "      <td>1.0</td>\n",
              "      <td>0.4</td>\n",
              "    </tr>\n",
              "    <tr>\n",
              "      <th>2</th>\n",
              "      <td>1.5</td>\n",
              "      <td>0.7</td>\n",
              "    </tr>\n",
              "    <tr>\n",
              "      <th>3</th>\n",
              "      <td>2.0</td>\n",
              "      <td>1.0</td>\n",
              "    </tr>\n",
              "    <tr>\n",
              "      <th>4</th>\n",
              "      <td>1.0</td>\n",
              "      <td>0.3</td>\n",
              "    </tr>\n",
              "    <tr>\n",
              "      <th>...</th>\n",
              "      <td>...</td>\n",
              "      <td>...</td>\n",
              "    </tr>\n",
              "    <tr>\n",
              "      <th>69</th>\n",
              "      <td>3.6</td>\n",
              "      <td>1.8</td>\n",
              "    </tr>\n",
              "    <tr>\n",
              "      <th>70</th>\n",
              "      <td>1.8</td>\n",
              "      <td>0.7</td>\n",
              "    </tr>\n",
              "    <tr>\n",
              "      <th>71</th>\n",
              "      <td>1.9</td>\n",
              "      <td>0.8</td>\n",
              "    </tr>\n",
              "    <tr>\n",
              "      <th>72</th>\n",
              "      <td>3.4</td>\n",
              "      <td>1.7</td>\n",
              "    </tr>\n",
              "    <tr>\n",
              "      <th>73</th>\n",
              "      <td>1.0</td>\n",
              "      <td>0.4</td>\n",
              "    </tr>\n",
              "  </tbody>\n",
              "</table>\n",
              "<p>74 rows × 2 columns</p>\n",
              "</div>"
            ],
            "text/plain": [
              "    Daily Exercise Time (X)  Weight Loss (Y)\n",
              "0                       0.5              0.2\n",
              "1                       1.0              0.4\n",
              "2                       1.5              0.7\n",
              "3                       2.0              1.0\n",
              "4                       1.0              0.3\n",
              "..                      ...              ...\n",
              "69                      3.6              1.8\n",
              "70                      1.8              0.7\n",
              "71                      1.9              0.8\n",
              "72                      3.4              1.7\n",
              "73                      1.0              0.4\n",
              "\n",
              "[74 rows x 2 columns]"
            ]
          },
          "execution_count": 2,
          "metadata": {},
          "output_type": "execute_result"
        }
      ],
      "source": [
        "data = pd.read_csv('R03_excercises.csv')\n",
        "data"
      ]
    },
    {
      "cell_type": "markdown",
      "id": "fc860490",
      "metadata": {
        "id": "fc860490"
      },
      "source": [
        "Mengambil data \"R03_excercises.csv\" yang sudah ditaruh dalam 1 folder"
      ]
    },
    {
      "cell_type": "code",
      "execution_count": null,
      "id": "be50379f",
      "metadata": {
        "id": "be50379f",
        "outputId": "3045fdba-4c01-4d1f-c048-afdb6c13b13a"
      },
      "outputs": [
        {
          "data": {
            "text/html": [
              "<div>\n",
              "<style scoped>\n",
              "    .dataframe tbody tr th:only-of-type {\n",
              "        vertical-align: middle;\n",
              "    }\n",
              "\n",
              "    .dataframe tbody tr th {\n",
              "        vertical-align: top;\n",
              "    }\n",
              "\n",
              "    .dataframe thead th {\n",
              "        text-align: right;\n",
              "    }\n",
              "</style>\n",
              "<table border=\"1\" class=\"dataframe\">\n",
              "  <thead>\n",
              "    <tr style=\"text-align: right;\">\n",
              "      <th></th>\n",
              "      <th>Daily Exercise Time (X)</th>\n",
              "      <th>Weight Loss (Y)</th>\n",
              "    </tr>\n",
              "  </thead>\n",
              "  <tbody>\n",
              "    <tr>\n",
              "      <th>0</th>\n",
              "      <td>0.5</td>\n",
              "      <td>0.2</td>\n",
              "    </tr>\n",
              "    <tr>\n",
              "      <th>1</th>\n",
              "      <td>1.0</td>\n",
              "      <td>0.4</td>\n",
              "    </tr>\n",
              "    <tr>\n",
              "      <th>2</th>\n",
              "      <td>1.5</td>\n",
              "      <td>0.7</td>\n",
              "    </tr>\n",
              "    <tr>\n",
              "      <th>3</th>\n",
              "      <td>2.0</td>\n",
              "      <td>1.0</td>\n",
              "    </tr>\n",
              "    <tr>\n",
              "      <th>4</th>\n",
              "      <td>1.0</td>\n",
              "      <td>0.3</td>\n",
              "    </tr>\n",
              "  </tbody>\n",
              "</table>\n",
              "</div>"
            ],
            "text/plain": [
              "   Daily Exercise Time (X)  Weight Loss (Y)\n",
              "0                      0.5              0.2\n",
              "1                      1.0              0.4\n",
              "2                      1.5              0.7\n",
              "3                      2.0              1.0\n",
              "4                      1.0              0.3"
            ]
          },
          "execution_count": 3,
          "metadata": {},
          "output_type": "execute_result"
        }
      ],
      "source": [
        "data.head()"
      ]
    },
    {
      "cell_type": "markdown",
      "id": "cc6672eb",
      "metadata": {
        "id": "cc6672eb"
      },
      "source": [
        "Berfungsi untuk mengambil data 5 teratas"
      ]
    },
    {
      "cell_type": "code",
      "execution_count": null,
      "id": "c70a61e9",
      "metadata": {
        "id": "c70a61e9",
        "outputId": "f93dc547-af26-40d7-8f87-d8b83e981d91"
      },
      "outputs": [
        {
          "data": {
            "text/html": [
              "<div>\n",
              "<style scoped>\n",
              "    .dataframe tbody tr th:only-of-type {\n",
              "        vertical-align: middle;\n",
              "    }\n",
              "\n",
              "    .dataframe tbody tr th {\n",
              "        vertical-align: top;\n",
              "    }\n",
              "\n",
              "    .dataframe thead th {\n",
              "        text-align: right;\n",
              "    }\n",
              "</style>\n",
              "<table border=\"1\" class=\"dataframe\">\n",
              "  <thead>\n",
              "    <tr style=\"text-align: right;\">\n",
              "      <th></th>\n",
              "      <th>Daily Exercise Time (X)</th>\n",
              "      <th>Weight Loss (Y)</th>\n",
              "    </tr>\n",
              "  </thead>\n",
              "  <tbody>\n",
              "    <tr>\n",
              "      <th>69</th>\n",
              "      <td>3.6</td>\n",
              "      <td>1.8</td>\n",
              "    </tr>\n",
              "    <tr>\n",
              "      <th>70</th>\n",
              "      <td>1.8</td>\n",
              "      <td>0.7</td>\n",
              "    </tr>\n",
              "    <tr>\n",
              "      <th>71</th>\n",
              "      <td>1.9</td>\n",
              "      <td>0.8</td>\n",
              "    </tr>\n",
              "    <tr>\n",
              "      <th>72</th>\n",
              "      <td>3.4</td>\n",
              "      <td>1.7</td>\n",
              "    </tr>\n",
              "    <tr>\n",
              "      <th>73</th>\n",
              "      <td>1.0</td>\n",
              "      <td>0.4</td>\n",
              "    </tr>\n",
              "  </tbody>\n",
              "</table>\n",
              "</div>"
            ],
            "text/plain": [
              "    Daily Exercise Time (X)  Weight Loss (Y)\n",
              "69                      3.6              1.8\n",
              "70                      1.8              0.7\n",
              "71                      1.9              0.8\n",
              "72                      3.4              1.7\n",
              "73                      1.0              0.4"
            ]
          },
          "execution_count": 4,
          "metadata": {},
          "output_type": "execute_result"
        }
      ],
      "source": [
        "data.tail()"
      ]
    },
    {
      "cell_type": "markdown",
      "id": "ee39b247",
      "metadata": {
        "id": "ee39b247"
      },
      "source": [
        "Berfungsi untuk mengambil data 5 terbawah"
      ]
    },
    {
      "cell_type": "code",
      "execution_count": null,
      "id": "fb33c274",
      "metadata": {
        "id": "fb33c274",
        "outputId": "32233d65-b01b-4328-8430-074516246ea7"
      },
      "outputs": [
        {
          "name": "stdout",
          "output_type": "stream",
          "text": [
            "Jumlah dataset yang dimiliki: 74\n"
          ]
        }
      ],
      "source": [
        "print(\"Jumlah dataset yang dimiliki: \"+str(len(data.index)))"
      ]
    },
    {
      "cell_type": "markdown",
      "id": "d3138d45",
      "metadata": {
        "id": "d3138d45"
      },
      "source": [
        "Agar dapat menghitung jumlah data yang ada didalam dataset yang dipanggil"
      ]
    },
    {
      "cell_type": "code",
      "execution_count": null,
      "id": "17a4c3e9",
      "metadata": {
        "id": "17a4c3e9",
        "outputId": "fd1a93ee-e32e-47ce-c47a-9183f6f8a010"
      },
      "outputs": [
        {
          "data": {
            "text/html": [
              "<div>\n",
              "<style scoped>\n",
              "    .dataframe tbody tr th:only-of-type {\n",
              "        vertical-align: middle;\n",
              "    }\n",
              "\n",
              "    .dataframe tbody tr th {\n",
              "        vertical-align: top;\n",
              "    }\n",
              "\n",
              "    .dataframe thead th {\n",
              "        text-align: right;\n",
              "    }\n",
              "</style>\n",
              "<table border=\"1\" class=\"dataframe\">\n",
              "  <thead>\n",
              "    <tr style=\"text-align: right;\">\n",
              "      <th></th>\n",
              "      <th>Data Asli</th>\n",
              "      <th>Prediksi</th>\n",
              "    </tr>\n",
              "  </thead>\n",
              "  <tbody>\n",
              "    <tr>\n",
              "      <th>count</th>\n",
              "      <td>23.000000</td>\n",
              "      <td>23.000000</td>\n",
              "    </tr>\n",
              "    <tr>\n",
              "      <th>mean</th>\n",
              "      <td>1.113043</td>\n",
              "      <td>1.093191</td>\n",
              "    </tr>\n",
              "    <tr>\n",
              "      <th>std</th>\n",
              "      <td>0.542137</td>\n",
              "      <td>0.516092</td>\n",
              "    </tr>\n",
              "    <tr>\n",
              "      <th>min</th>\n",
              "      <td>0.300000</td>\n",
              "      <td>0.219739</td>\n",
              "    </tr>\n",
              "    <tr>\n",
              "      <th>25%</th>\n",
              "      <td>0.700000</td>\n",
              "      <td>0.655281</td>\n",
              "    </tr>\n",
              "    <tr>\n",
              "      <th>50%</th>\n",
              "      <td>1.100000</td>\n",
              "      <td>1.090824</td>\n",
              "    </tr>\n",
              "    <tr>\n",
              "      <th>75%</th>\n",
              "      <td>1.650000</td>\n",
              "      <td>1.526366</td>\n",
              "    </tr>\n",
              "    <tr>\n",
              "      <th>max</th>\n",
              "      <td>1.900000</td>\n",
              "      <td>1.853022</td>\n",
              "    </tr>\n",
              "  </tbody>\n",
              "</table>\n",
              "</div>"
            ],
            "text/plain": [
              "       Data Asli   Prediksi\n",
              "count  23.000000  23.000000\n",
              "mean    1.113043   1.093191\n",
              "std     0.542137   0.516092\n",
              "min     0.300000   0.219739\n",
              "25%     0.700000   0.655281\n",
              "50%     1.100000   1.090824\n",
              "75%     1.650000   1.526366\n",
              "max     1.900000   1.853022"
            ]
          },
          "execution_count": 29,
          "metadata": {},
          "output_type": "execute_result"
        }
      ],
      "source": [
        "data.describe()"
      ]
    },
    {
      "cell_type": "markdown",
      "id": "223ef45e",
      "metadata": {
        "id": "223ef45e"
      },
      "source": [
        "Describe untuk mencari jumlah data, nilai rata, standar, nilai minimum, kuartil 25%-75%, dan nilai maksimum"
      ]
    },
    {
      "cell_type": "code",
      "execution_count": null,
      "id": "dd76a3e6",
      "metadata": {
        "id": "dd76a3e6",
        "outputId": "923b167b-39c7-418d-c6fb-1e324076c2a1"
      },
      "outputs": [
        {
          "data": {
            "text/html": [
              "<div>\n",
              "<style scoped>\n",
              "    .dataframe tbody tr th:only-of-type {\n",
              "        vertical-align: middle;\n",
              "    }\n",
              "\n",
              "    .dataframe tbody tr th {\n",
              "        vertical-align: top;\n",
              "    }\n",
              "\n",
              "    .dataframe thead th {\n",
              "        text-align: right;\n",
              "    }\n",
              "</style>\n",
              "<table border=\"1\" class=\"dataframe\">\n",
              "  <thead>\n",
              "    <tr style=\"text-align: right;\">\n",
              "      <th></th>\n",
              "      <th>Daily Exercise Time (X)</th>\n",
              "      <th>Weight Loss (Y)</th>\n",
              "    </tr>\n",
              "  </thead>\n",
              "  <tbody>\n",
              "    <tr>\n",
              "      <th>count</th>\n",
              "      <td>74.000000</td>\n",
              "      <td>74.000000</td>\n",
              "    </tr>\n",
              "    <tr>\n",
              "      <th>mean</th>\n",
              "      <td>2.124324</td>\n",
              "      <td>1.001351</td>\n",
              "    </tr>\n",
              "    <tr>\n",
              "      <th>std</th>\n",
              "      <td>1.021121</td>\n",
              "      <td>0.567980</td>\n",
              "    </tr>\n",
              "    <tr>\n",
              "      <th>min</th>\n",
              "      <td>0.400000</td>\n",
              "      <td>0.200000</td>\n",
              "    </tr>\n",
              "    <tr>\n",
              "      <th>25%</th>\n",
              "      <td>1.225000</td>\n",
              "      <td>0.500000</td>\n",
              "    </tr>\n",
              "    <tr>\n",
              "      <th>50%</th>\n",
              "      <td>2.050000</td>\n",
              "      <td>1.000000</td>\n",
              "    </tr>\n",
              "    <tr>\n",
              "      <th>75%</th>\n",
              "      <td>2.975000</td>\n",
              "      <td>1.500000</td>\n",
              "    </tr>\n",
              "    <tr>\n",
              "      <th>max</th>\n",
              "      <td>3.900000</td>\n",
              "      <td>2.000000</td>\n",
              "    </tr>\n",
              "  </tbody>\n",
              "</table>\n",
              "</div>"
            ],
            "text/plain": [
              "       Daily Exercise Time (X)  Weight Loss (Y)\n",
              "count                74.000000        74.000000\n",
              "mean                  2.124324         1.001351\n",
              "std                   1.021121         0.567980\n",
              "min                   0.400000         0.200000\n",
              "25%                   1.225000         0.500000\n",
              "50%                   2.050000         1.000000\n",
              "75%                   2.975000         1.500000\n",
              "max                   3.900000         2.000000"
            ]
          },
          "execution_count": 7,
          "metadata": {},
          "output_type": "execute_result"
        }
      ],
      "source": [
        "data.describe()"
      ]
    },
    {
      "cell_type": "code",
      "execution_count": null,
      "id": "98a82582",
      "metadata": {
        "id": "98a82582",
        "outputId": "e9b88ecb-f16f-4c84-adea-ed3c2a73307c"
      },
      "outputs": [
        {
          "name": "stdout",
          "output_type": "stream",
          "text": [
            "<class 'pandas.core.frame.DataFrame'>\n",
            "RangeIndex: 74 entries, 0 to 73\n",
            "Data columns (total 2 columns):\n",
            " #   Column                   Non-Null Count  Dtype  \n",
            "---  ------                   --------------  -----  \n",
            " 0   Daily Exercise Time (X)  74 non-null     float64\n",
            " 1   Weight Loss (Y)          74 non-null     float64\n",
            "dtypes: float64(2)\n",
            "memory usage: 1.3 KB\n"
          ]
        }
      ],
      "source": [
        "data.info()"
      ]
    },
    {
      "cell_type": "markdown",
      "id": "bc638bab",
      "metadata": {
        "id": "bc638bab"
      },
      "source": [
        "Memberikan informasi dari data yang akan digunakan, berupa kolom dan apa saja yang ada dalam kolom tersebut sehingga juga tipe dari data tersebut"
      ]
    },
    {
      "cell_type": "code",
      "execution_count": null,
      "id": "6447dab4",
      "metadata": {
        "id": "6447dab4",
        "outputId": "baca0dbe-646b-4d57-ce8a-9c552268a957"
      },
      "outputs": [
        {
          "data": {
            "image/png": "[encoded data removed]",
            "text/plain": [
              "<Figure size 640x480 with 1 Axes>"
            ]
          },
          "metadata": {},
          "output_type": "display_data"
        }
      ],
      "source": [
        "data.plot(x = 'Daily Exercise Time (X)', y = 'Weight Loss (Y)', style='o')\n",
        "plt.title('Data Berdasarkan dari Rutin Latihan dan Berat Turun')\n",
        "plt.xlabel('Daily Exercise Time')\n",
        "plt.ylabel('Weight Loss')\n",
        "plt.show()"
      ]
    },
    {
      "cell_type": "markdown",
      "id": "221ca9e7",
      "metadata": {
        "id": "221ca9e7"
      },
      "source": [
        "1. data.Plot untuk menentukan titik x dan titik y untuk ditampilkan\n",
        "2. plt.title memberikan judul untuk grafik\n",
        "3. plt.xlabel untuk memberikan data yang di isi pada titik x\n",
        "4. plt.ylabel untuk memberikan data yang di isi pada titik y\n",
        "5. plt.show() untuk menampilkan grafik yang kita setting"
      ]
    },
    {
      "cell_type": "code",
      "execution_count": null,
      "id": "fe60024c",
      "metadata": {
        "id": "fe60024c"
      },
      "outputs": [],
      "source": [
        "x = data.iloc[:, :-1].values\n",
        "y = data.iloc[:, 1].values"
      ]
    },
    {
      "cell_type": "markdown",
      "id": "e763fd5b",
      "metadata": {
        "id": "e763fd5b"
      },
      "source": [
        "Untuk menentukan variabel x dan y"
      ]
    },
    {
      "cell_type": "code",
      "execution_count": null,
      "id": "b30a609c",
      "metadata": {
        "id": "b30a609c"
      },
      "outputs": [],
      "source": [
        "from sklearn.model_selection import train_test_split\n",
        "x_train, x_test, y_train, y_test = train_test_split(x, y, test_size=0.3, random_state=0)"
      ]
    },
    {
      "cell_type": "markdown",
      "id": "17654505",
      "metadata": {
        "id": "17654505"
      },
      "source": [
        "membagi data menjadi 2 untuk testing dan dilatih"
      ]
    },
    {
      "cell_type": "code",
      "execution_count": null,
      "id": "1e472e08",
      "metadata": {
        "id": "1e472e08",
        "outputId": "5b8e9056-2ff5-46e3-bb63-089125eb0290"
      },
      "outputs": [
        {
          "data": {
            "text/html": [
              "<style>#sk-container-id-1 {color: black;}#sk-container-id-1 pre{padding: 0;}#sk-container-id-1 div.sk-toggleable {background-color: white;}#sk-container-id-1 label.sk-toggleable__label {cursor: pointer;display: block;width: 100%;margin-bottom: 0;padding: 0.3em;box-sizing: border-box;text-align: center;}#sk-container-id-1 label.sk-toggleable__label-arrow:before {content: \"▸\";float: left;margin-right: 0.25em;color: #696969;}#sk-container-id-1 label.sk-toggleable__label-arrow:hover:before {color: black;}#sk-container-id-1 div.sk-estimator:hover label.sk-toggleable__label-arrow:before {color: black;}#sk-container-id-1 div.sk-toggleable__content {max-height: 0;max-width: 0;overflow: hidden;text-align: left;background-color: #f0f8ff;}#sk-container-id-1 div.sk-toggleable__content pre {margin: 0.2em;color: black;border-radius: 0.25em;background-color: #f0f8ff;}#sk-container-id-1 input.sk-toggleable__control:checked~div.sk-toggleable__content {max-height: 200px;max-width: 100%;overflow: auto;}#sk-container-id-1 input.sk-toggleable__control:checked~label.sk-toggleable__label-arrow:before {content: \"▾\";}#sk-container-id-1 div.sk-estimator input.sk-toggleable__control:checked~label.sk-toggleable__label {background-color: #d4ebff;}#sk-container-id-1 div.sk-label input.sk-toggleable__control:checked~label.sk-toggleable__label {background-color: #d4ebff;}#sk-container-id-1 input.sk-hidden--visually {border: 0;clip: rect(1px 1px 1px 1px);clip: rect(1px, 1px, 1px, 1px);height: 1px;margin: -1px;overflow: hidden;padding: 0;position: absolute;width: 1px;}#sk-container-id-1 div.sk-estimator {font-family: monospace;background-color: #f0f8ff;border: 1px dotted black;border-radius: 0.25em;box-sizing: border-box;margin-bottom: 0.5em;}#sk-container-id-1 div.sk-estimator:hover {background-color: #d4ebff;}#sk-container-id-1 div.sk-parallel-item::after {content: \"\";width: 100%;border-bottom: 1px solid gray;flex-grow: 1;}#sk-container-id-1 div.sk-label:hover label.sk-toggleable__label {background-color: #d4ebff;}#sk-container-id-1 div.sk-serial::before {content: \"\";position: absolute;border-left: 1px solid gray;box-sizing: border-box;top: 0;bottom: 0;left: 50%;z-index: 0;}#sk-container-id-1 div.sk-serial {display: flex;flex-direction: column;align-items: center;background-color: white;padding-right: 0.2em;padding-left: 0.2em;position: relative;}#sk-container-id-1 div.sk-item {position: relative;z-index: 1;}#sk-container-id-1 div.sk-parallel {display: flex;align-items: stretch;justify-content: center;background-color: white;position: relative;}#sk-container-id-1 div.sk-item::before, #sk-container-id-1 div.sk-parallel-item::before {content: \"\";position: absolute;border-left: 1px solid gray;box-sizing: border-box;top: 0;bottom: 0;left: 50%;z-index: -1;}#sk-container-id-1 div.sk-parallel-item {display: flex;flex-direction: column;z-index: 1;position: relative;background-color: white;}#sk-container-id-1 div.sk-parallel-item:first-child::after {align-self: flex-end;width: 50%;}#sk-container-id-1 div.sk-parallel-item:last-child::after {align-self: flex-start;width: 50%;}#sk-container-id-1 div.sk-parallel-item:only-child::after {width: 0;}#sk-container-id-1 div.sk-dashed-wrapped {border: 1px dashed gray;margin: 0 0.4em 0.5em 0.4em;box-sizing: border-box;padding-bottom: 0.4em;background-color: white;}#sk-container-id-1 div.sk-label label {font-family: monospace;font-weight: bold;display: inline-block;line-height: 1.2em;}#sk-container-id-1 div.sk-label-container {text-align: center;}#sk-container-id-1 div.sk-container {/* jupyter's `normalize.less` sets `[hidden] { display: none; }` but bootstrap.min.css set `[hidden] { display: none !important; }` so we also need the `!important` here to be able to override the default hidden behavior on the sphinx rendered scikit-learn.org. See: https://github.com/scikit-learn/scikit-learn/issues/21755 */display: inline-block !important;position: relative;}#sk-container-id-1 div.sk-text-repr-fallback {display: none;}</style><div id=\"sk-container-id-1\" class=\"sk-top-container\"><div class=\"sk-text-repr-fallback\"><pre>LinearRegression()</pre><b>In a Jupyter environment, please rerun this cell to show the HTML representation or trust the notebook. <br />On GitHub, the HTML representation is unable to render, please try loading this page with nbviewer.org.</b></div><div class=\"sk-container\" hidden><div class=\"sk-item\"><div class=\"sk-estimator sk-toggleable\"><input class=\"sk-toggleable__control sk-hidden--visually\" id=\"sk-estimator-id-1\" type=\"checkbox\" checked><label for=\"sk-estimator-id-1\" class=\"sk-toggleable__label sk-toggleable__label-arrow\">LinearRegression</label><div class=\"sk-toggleable__content\"><pre>LinearRegression()</pre></div></div></div></div></div>"
            ],
            "text/plain": [
              "LinearRegression()"
            ]
          },
          "execution_count": 19,
          "metadata": {},
          "output_type": "execute_result"
        }
      ],
      "source": [
        "from sklearn.linear_model import LinearRegression\n",
        "regressor = LinearRegression()\n",
        "regressor.fit(x_train, y_train)"
      ]
    },
    {
      "cell_type": "markdown",
      "id": "92de4a69",
      "metadata": {
        "id": "92de4a69"
      },
      "source": [
        "Mengimport library LinearRegression dari sklear untuk digunakan objek regressor dan buat model regresi untuk melatih x_train dan y_train"
      ]
    },
    {
      "cell_type": "code",
      "execution_count": null,
      "id": "55751aac",
      "metadata": {
        "id": "55751aac",
        "outputId": "1c34ae66-b38e-44f5-ea9e-79b7aee030d5"
      },
      "outputs": [
        {
          "name": "stdout",
          "output_type": "stream",
          "text": [
            "-0.1613598626229371\n"
          ]
        }
      ],
      "source": [
        "print(regressor.intercept_)"
      ]
    },
    {
      "cell_type": "markdown",
      "id": "60620d3e",
      "metadata": {
        "id": "60620d3e"
      },
      "source": [
        "Mencari nilai perpotongan pada regresi"
      ]
    },
    {
      "cell_type": "code",
      "execution_count": null,
      "id": "2e7b9749",
      "metadata": {
        "id": "2e7b9749",
        "outputId": "79dc8908-6547-43a7-8b6e-5d5b579ecbe2"
      },
      "outputs": [
        {
          "name": "stdout",
          "output_type": "stream",
          "text": [
            "[0.54442757]\n"
          ]
        }
      ],
      "source": [
        "print(regressor.coef_)"
      ]
    },
    {
      "cell_type": "markdown",
      "id": "bb671fb2",
      "metadata": {
        "id": "bb671fb2"
      },
      "source": [
        "Mencari koefisien pada x garis regresi"
      ]
    },
    {
      "cell_type": "code",
      "execution_count": null,
      "id": "95c26add",
      "metadata": {
        "id": "95c26add",
        "outputId": "a61a9631-7f3d-47b8-e200-15c24fc51b26"
      },
      "outputs": [
        {
          "data": {
            "text/plain": [
              "0.6552814923770629"
            ]
          },
          "execution_count": 23,
          "metadata": {},
          "output_type": "execute_result"
        }
      ],
      "source": [
        "#intercept + coef * 3.3 Daily Exercise Time\n",
        "-0.1613598626229371 + 0.54442757 * 1.5"
      ]
    },
    {
      "cell_type": "markdown",
      "id": "4221eae2",
      "metadata": {
        "id": "4221eae2"
      },
      "source": [
        "Untuk mencari prefiksi seberapa efektifnya pembelajaran yang dilakukan dari 5 data teratas secara manual"
      ]
    },
    {
      "cell_type": "code",
      "execution_count": null,
      "id": "dfdbb756",
      "metadata": {
        "id": "dfdbb756"
      },
      "outputs": [],
      "source": [
        "y_pred = regressor.predict(x_test)"
      ]
    },
    {
      "cell_type": "markdown",
      "id": "d19e6813",
      "metadata": {
        "id": "d19e6813"
      },
      "source": [
        "Untuk mencari prediksi efektifan secara otomatis"
      ]
    },
    {
      "cell_type": "code",
      "execution_count": null,
      "id": "e7f0d5a6",
      "metadata": {
        "id": "e7f0d5a6",
        "outputId": "5e30f9df-4687-4dd3-96fc-8c180711b53b"
      },
      "outputs": [
        {
          "data": {
            "text/html": [
              "<div>\n",
              "<style scoped>\n",
              "    .dataframe tbody tr th:only-of-type {\n",
              "        vertical-align: middle;\n",
              "    }\n",
              "\n",
              "    .dataframe tbody tr th {\n",
              "        vertical-align: top;\n",
              "    }\n",
              "\n",
              "    .dataframe thead th {\n",
              "        text-align: right;\n",
              "    }\n",
              "</style>\n",
              "<table border=\"1\" class=\"dataframe\">\n",
              "  <thead>\n",
              "    <tr style=\"text-align: right;\">\n",
              "      <th></th>\n",
              "      <th>Data Asli</th>\n",
              "      <th>Prediksi</th>\n",
              "    </tr>\n",
              "  </thead>\n",
              "  <tbody>\n",
              "    <tr>\n",
              "      <th>0</th>\n",
              "      <td>1.7</td>\n",
              "      <td>1.580808</td>\n",
              "    </tr>\n",
              "    <tr>\n",
              "      <th>1</th>\n",
              "      <td>0.8</td>\n",
              "      <td>0.927495</td>\n",
              "    </tr>\n",
              "    <tr>\n",
              "      <th>2</th>\n",
              "      <td>1.8</td>\n",
              "      <td>1.853022</td>\n",
              "    </tr>\n",
              "    <tr>\n",
              "      <th>3</th>\n",
              "      <td>1.9</td>\n",
              "      <td>1.798579</td>\n",
              "    </tr>\n",
              "    <tr>\n",
              "      <th>4</th>\n",
              "      <td>0.3</td>\n",
              "      <td>0.383068</td>\n",
              "    </tr>\n",
              "    <tr>\n",
              "      <th>5</th>\n",
              "      <td>0.7</td>\n",
              "      <td>0.655281</td>\n",
              "    </tr>\n",
              "    <tr>\n",
              "      <th>6</th>\n",
              "      <td>0.3</td>\n",
              "      <td>0.274182</td>\n",
              "    </tr>\n",
              "    <tr>\n",
              "      <th>7</th>\n",
              "      <td>1.4</td>\n",
              "      <td>1.363037</td>\n",
              "    </tr>\n",
              "    <tr>\n",
              "      <th>8</th>\n",
              "      <td>1.1</td>\n",
              "      <td>1.145266</td>\n",
              "    </tr>\n",
              "    <tr>\n",
              "      <th>9</th>\n",
              "      <td>1.1</td>\n",
              "      <td>0.927495</td>\n",
              "    </tr>\n",
              "    <tr>\n",
              "      <th>10</th>\n",
              "      <td>0.6</td>\n",
              "      <td>0.546396</td>\n",
              "    </tr>\n",
              "    <tr>\n",
              "      <th>11</th>\n",
              "      <td>1.0</td>\n",
              "      <td>1.036381</td>\n",
              "    </tr>\n",
              "    <tr>\n",
              "      <th>12</th>\n",
              "      <td>1.8</td>\n",
              "      <td>1.744137</td>\n",
              "    </tr>\n",
              "    <tr>\n",
              "      <th>13</th>\n",
              "      <td>0.7</td>\n",
              "      <td>0.655281</td>\n",
              "    </tr>\n",
              "    <tr>\n",
              "      <th>14</th>\n",
              "      <td>0.7</td>\n",
              "      <td>0.818610</td>\n",
              "    </tr>\n",
              "    <tr>\n",
              "      <th>15</th>\n",
              "      <td>1.0</td>\n",
              "      <td>1.090824</td>\n",
              "    </tr>\n",
              "    <tr>\n",
              "      <th>16</th>\n",
              "      <td>1.5</td>\n",
              "      <td>1.417480</td>\n",
              "    </tr>\n",
              "    <tr>\n",
              "      <th>17</th>\n",
              "      <td>0.6</td>\n",
              "      <td>0.600839</td>\n",
              "    </tr>\n",
              "    <tr>\n",
              "      <th>18</th>\n",
              "      <td>1.1</td>\n",
              "      <td>1.199709</td>\n",
              "    </tr>\n",
              "    <tr>\n",
              "      <th>19</th>\n",
              "      <td>1.8</td>\n",
              "      <td>1.635251</td>\n",
              "    </tr>\n",
              "    <tr>\n",
              "      <th>20</th>\n",
              "      <td>1.6</td>\n",
              "      <td>1.471923</td>\n",
              "    </tr>\n",
              "    <tr>\n",
              "      <th>21</th>\n",
              "      <td>0.3</td>\n",
              "      <td>0.219739</td>\n",
              "    </tr>\n",
              "    <tr>\n",
              "      <th>22</th>\n",
              "      <td>1.8</td>\n",
              "      <td>1.798579</td>\n",
              "    </tr>\n",
              "  </tbody>\n",
              "</table>\n",
              "</div>"
            ],
            "text/plain": [
              "    Data Asli  Prediksi\n",
              "0         1.7  1.580808\n",
              "1         0.8  0.927495\n",
              "2         1.8  1.853022\n",
              "3         1.9  1.798579\n",
              "4         0.3  0.383068\n",
              "5         0.7  0.655281\n",
              "6         0.3  0.274182\n",
              "7         1.4  1.363037\n",
              "8         1.1  1.145266\n",
              "9         1.1  0.927495\n",
              "10        0.6  0.546396\n",
              "11        1.0  1.036381\n",
              "12        1.8  1.744137\n",
              "13        0.7  0.655281\n",
              "14        0.7  0.818610\n",
              "15        1.0  1.090824\n",
              "16        1.5  1.417480\n",
              "17        0.6  0.600839\n",
              "18        1.1  1.199709\n",
              "19        1.8  1.635251\n",
              "20        1.6  1.471923\n",
              "21        0.3  0.219739\n",
              "22        1.8  1.798579"
            ]
          },
          "execution_count": 25,
          "metadata": {},
          "output_type": "execute_result"
        }
      ],
      "source": [
        "data = pd.DataFrame({'Data Asli' : y_test, 'Prediksi' : y_pred})\n",
        "data"
      ]
    },
    {
      "cell_type": "markdown",
      "id": "91035a5b",
      "metadata": {
        "id": "91035a5b"
      },
      "source": [
        "Untuk menampilkan dataframe prediksi berdasarkan data asli yang sudah di run"
      ]
    },
    {
      "cell_type": "code",
      "execution_count": null,
      "id": "29d35d5d",
      "metadata": {
        "id": "29d35d5d",
        "outputId": "c1b9c67b-5cae-4d1b-b6bd-2f0144d923c7"
      },
      "outputs": [
        {
          "data": {
            "image/png": "[encoded data removed]",
            "text/plain": [
              "<Figure size 640x480 with 1 Axes>"
            ]
          },
          "metadata": {},
          "output_type": "display_data"
        }
      ],
      "source": [
        "#Grafik dari hasil testing data\n",
        "plt.scatter(x_test, y_test, color='red')\n",
        "plt.plot(x_train, regressor.predict(x_train), color='black')\n",
        "plt.title('Perbandingan Latihan Rutin dengan Berat Turun')\n",
        "plt.xlabel('Daily Exercise Time')\n",
        "plt.ylabel('Weight Loss')\n",
        "plt.show()"
      ]
    },
    {
      "cell_type": "markdown",
      "id": "8a41de9b",
      "metadata": {
        "id": "8a41de9b"
      },
      "source": [
        "1. plt.Scatter untuk memanggil desain scatter dalam library\n",
        "2. plt.plot berfungsi mengambil data prediksi pada x_train\n",
        "3. plt.title memberikan judul untuk grafik diatas\n",
        "4. plt.xlabel menentukan data x label pada grafik, yaitu \"Daily Exercise Times\"\n",
        "5. plt.ylabel menentukan data y label pada grafik, yaitu \"Weight Loss\"\n",
        "6. plt.show() untuk menampilkan scatter yang sudah di setting"
      ]
    },
    {
      "cell_type": "code",
      "execution_count": null,
      "id": "6654d876",
      "metadata": {
        "id": "6654d876",
        "outputId": "0e15c578-5193-48fb-c672-ff385d6b59a3"
      },
      "outputs": [
        {
          "data": {
            "image/png": "[encoded data removed]",
            "text/plain": [
              "<Figure size 640x480 with 1 Axes>"
            ]
          },
          "metadata": {},
          "output_type": "display_data"
        }
      ],
      "source": [
        "#Grafik dari pelatihan data\n",
        "plt.scatter(x_train, y_train, color = 'red')\n",
        "plt.plot(x_train, regressor.predict(x_train), color = 'black')\n",
        "plt.title('Perbandingan Latihan Rutin dengan Berat Turun')\n",
        "plt.xlabel('Daily Exercise Time')\n",
        "plt.ylabel('Berat Turun')\n",
        "plt.show()"
      ]
    },
    {
      "cell_type": "markdown",
      "id": "a53afe89",
      "metadata": {
        "id": "a53afe89"
      },
      "source": [
        "1. plt.Scatter untuk memanggil desain scatter dalam library\n",
        "2. plt.plot berfungsi mengambil data prediksi pada x_train\n",
        "3. plt.title memberikan judul untuk grafik diatas\n",
        "4. plt.xlabel menentukan data x label pada grafik, yaitu \"Daily Exercise Times\"\n",
        "5. plt.ylabel menentukan data y label pada grafik, yaitu \"Weight Loss\"\n",
        "6. plt.show() untuk menampilkan scatter yang sudah di setting"
      ]
    },
    {
      "cell_type": "code",
      "execution_count": null,
      "id": "3f9a66ee",
      "metadata": {
        "id": "3f9a66ee"
      },
      "outputs": [],
      "source": []
    }
  ],
  "metadata": {
    "kernelspec": {
      "display_name": "Python 3 (ipykernel)",
      "language": "python",
      "name": "python3"
    },
    "language_info": {
      "codemirror_mode": {
        "name": "ipython",
        "version": 3
      },
      "file_extension": ".py",
      "mimetype": "text/x-python",
      "name": "python",
      "nbconvert_exporter": "python",
      "pygments_lexer": "ipython3",
      "version": "3.11.5"
    },
    "colab": {
      "provenance": []
    }
  },
  "nbformat": 4,
  "nbformat_minor": 5
}